{
  "nbformat": 4,
  "nbformat_minor": 0,
  "metadata": {
    "colab": {
      "provenance": []
    },
    "kernelspec": {
      "name": "python3",
      "display_name": "Python 3"
    },
    "language_info": {
      "name": "python"
    }
  },
  "cells": [
    {
      "cell_type": "markdown",
      "source": [
        "\n",
        "1. **Uploading Files**:\n",
        "   - The script attempts to upload files using Google Colab’s `files.upload()` method but encounters a `ModuleNotFoundError`. This issue likely arises because the script was run outside the Google Colab environment or because the module isn't available.\n",
        "\n",
        "2. **Mounting Google Drive**:\n",
        "   - To access files stored on Google Drive, the script uses `drive.mount('/content/drive')`. This mounts the Google Drive to the Colab environment, allowing access to files stored there.\n",
        "\n",
        "3. **Dataset Import**:\n",
        "   - The dataset (`combined_data_1.txt`) is read into a DataFrame using `pd.read_csv()`. It has columns `Cust_Id` and `Rating`. Initial inspection shows some missing values in the dataset.\n",
        "\n",
        "4. **Data Inspection and Cleaning**:\n",
        "   - **Data Types**: The script checks the data types of columns, ensuring that `Rating` is a float.\n",
        "   - **Missing Values**: It identifies and handles missing values in the `Rating` column, with 4,499 missing ratings.\n",
        "\n",
        "5. **Exploratory Data Analysis (EDA)**:\n",
        "   - **Ratings Distribution**: The script groups the data by `Rating` to count occurrences of each rating value. It provides a bar chart to visualize the distribution of ratings.\n",
        "   - **Customer and Rating Counts**: The script calculates the number of unique customers and total ratings, adjusting for missing values.\n",
        "\n",
        "6. **Handling Missing Data**:\n",
        "   - The script creates a DataFrame to identify and manage missing values in ratings. It replaces missing values by creating a new column `Movie_Id`, which assigns a unique ID to each movie.\n",
        "\n",
        "7. **Data Preparation**:\n",
        "   - **Movie IDs**: A numpy array is created to assign IDs to movies, filling in the missing values appropriately.\n",
        "   - **Updating Dataset**: The `Movie_Id` column is added to the DataFrame, and the `Cust_Id` column is converted to integers.\n",
        "\n",
        "8. **Final Dataset**:\n",
        "   - The final dataset is displayed with added columns for `Movie_Id` and cleaned `Cust_Id`. The dataset is now ready for further analysis or modeling.\n",
        "\n",
        "**Key Points**:\n",
        "- **Handling Missing Values**: Strategies are implemented to manage and impute missing data.\n",
        "- **Exploratory Analysis**: Includes visualizations to understand data distribution and characteristics.\n",
        "- **Data Preparation**: Involves creating and assigning new columns for further analysis.\n",
        "\n",
        "Overall, the report outlines steps for data loading, cleaning, exploratory analysis, and preparation, focusing on preparing a Netflix dataset for further processing or analysis."
      ],
      "metadata": {
        "id": "FQxSq6kqdLKc"
      }
    },
    {
      "cell_type": "code",
      "source": [],
      "metadata": {
        "id": "UgkypHWAdGCI"
      },
      "execution_count": null,
      "outputs": []
    }
  ]
}